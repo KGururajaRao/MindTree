{
  "nbformat": 4,
  "nbformat_minor": 0,
  "metadata": {
    "colab": {
      "name": "MindTree.ipynb",
      "provenance": [],
      "collapsed_sections": []
    },
    "kernelspec": {
      "name": "python3",
      "display_name": "Python 3"
    },
    "language_info": {
      "name": "python"
    }
  },
  "cells": [
    {
      "cell_type": "markdown",
      "source": [
        "**Case Study** for **Computer Vision role**"
      ],
      "metadata": {
        "id": "xy23ybPdmpA3"
      }
    },
    {
      "cell_type": "markdown",
      "source": [
        "**A. Given an image of a gypsum board (like the image above), analyse the following:**"
      ],
      "metadata": {
        "id": "uuZqjtaj4i9r"
      }
    },
    {
      "cell_type": "markdown",
      "source": [
        "***1. Determine the number of pores/holes in a gypsum board***\n",
        "\n",
        "In the given gypsum board, the pores/ holes can be identified using Convolutional Neural Network (CNN). \n",
        "As entire image - gypsum board will be processed using Image Processing technique to have the better understanding on image features. This further helps for requirements to be considered.\n",
        "Deep Learning's CNN technique used Convolutional layer, Pooling Layer, Activation Function, Flatening & Output Layer for accurate result.\n",
        "\n",
        "Loss function or Cost function comes into pictures for further iteration on adjusting weights in backward propagation."
      ],
      "metadata": {
        "id": "vfNSH--ZnR8o"
      }
    },
    {
      "cell_type": "markdown",
      "source": [
        "***2. Determine the average size of the holes in a gypsum board***\n",
        "\n",
        "The average size can be calculated by extracting all the features in the image during image processing. On having the clear data of every hole with the size, we can determine the average size of holes. The numvber of holes present & number of holes with similar size can be considered for calculation."
      ],
      "metadata": {
        "id": "yxt1ERakpAPo"
      }
    },
    {
      "cell_type": "markdown",
      "source": [
        "**B. Given an image of a gypsum board, generate an image of a golden gypsum board (a board without\n",
        "any pores/holes)**\n",
        "\n",
        "In CNN technique, all the holes/ pores are detected in multi layer process. But, the considered detection to be made to '0'. This makes the board empty(without holes/ pores). \n",
        "Hence, Golden Gypsum Board arrives."
      ],
      "metadata": {
        "id": "a_ekivHU33m7"
      }
    },
    {
      "cell_type": "markdown",
      "source": [
        "**C. Using the generated golden gypsum board, further generate an image with artificial pores (an\n",
        "artificial gypsum board)**\n",
        "\n",
        "On having the better understanding in Gypsum board & Golden gypsum board, the data is the best requirement to proceed further on making a Gypsum board or Golden Gypsum board. Hence, the artificial holes/ pores can be generated."
      ],
      "metadata": {
        "id": "_HbJJjgw5o-k"
      }
    },
    {
      "cell_type": "markdown",
      "source": [
        "**D. Now generate 3,000 artificial gypsum board images, and analyse the following:**\n",
        "\n",
        "***1. Determine the number of pores/holes in a gypsum board***\n",
        "\n",
        "In the given gypsum board, the pores/ holes can be identified using Convolutional Neural Network (CNN). As entire image - gypsum board will be processed using Image Processing technique to have the better understanding on image features. This further helps for requirements to be considered. Deep Learning's CNN technique used Convolutional layer, Pooling Layer, Activation Function, Flatening & Output Layer for accurate result.\n",
        "\n",
        "Loss function or Cost function comes into pictures for further iteration on adjusting weights in backward propagation.\n"
      ],
      "metadata": {
        "id": "WO3Vo3up53QG"
      }
    },
    {
      "cell_type": "markdown",
      "source": [
        "***2. Determine the average size of the holes in a gypsum board***\n",
        "\n",
        "The average size can be calculated by extracting all the features in the image during image processing. On having the clear data of every hole with the size, we can determine the average size of holes. The numvber of holes present & number of holes with similar size can be considered for calculation."
      ],
      "metadata": {
        "id": "petI0RBj711K"
      }
    }
  ]
}